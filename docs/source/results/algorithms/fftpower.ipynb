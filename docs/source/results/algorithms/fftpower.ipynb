{
 "cells": [
  {
   "cell_type": "code",
   "execution_count": 1,
   "metadata": {
    "collapsed": true,
    "nbsphinx": "hidden"
   },
   "outputs": [],
   "source": [
    "# this cell is hidden by meta-data\n",
    "import tempfile, os\n",
    "startdir = os.path.abspath('.')\n",
    "tmpdir = tempfile.mkdtemp()\n",
    "os.chdir(tmpdir)"
   ]
  },
  {
   "cell_type": "raw",
   "metadata": {
    "raw_mimetype": "text/restructuredtext"
   },
   "source": [
    ".. currentmodule:: nbodykit.algorithms.fftpower\n",
    "\n",
    ".. _fftpower:\n",
    "\n",
    "Simulation Box Power Spectrum/Multipoles (:class:`FFTPower`)\n",
    "============================================================\n",
    "\n",
    "The :class:`FFTPower` class computes the 1d power spectrum :math:`P(k)`, 2d\n",
    "power spectrum :math:`P(k,\\mu)`, and/or multipoles :math:`P_\\ell(k)` for data\n",
    "in a simulation box, using a Fast Fourier Transform (FFT). Here, we provide\n",
    "a brief overview of the algorithm itself as well as the key things to know for\n",
    "the user to get up and running quickly.\n",
    "\n",
    ".. contents::\n",
    "   :depth: 2\n",
    "   :local:\n",
    "   :backlinks: none\n",
    "\n",
    ".. note::\n",
    "\n",
    "    To jump right into the :class:`FFTPower` algorithm, see this\n",
    "    :ref:`cookbook recipe <cookbook/fftpower.ipynb>` for a detailed\n",
    "    walk-through of the :class:`FFTPower` algorithm.\n",
    "\n",
    "The Algorithm\n",
    "-------------\n",
    "\n",
    "The steps involved in computing the power spectrum via :class:`FFTPower`\n",
    "are as follows:\n",
    "\n",
    "#. **Generate data on a mesh**\n",
    "\n",
    "\n",
    "   Data must be painted on to a discrete mesh to compute the power spectrum.\n",
    "   There are several ways to generate data on a mesh (see :ref:`creating-mesh`),\n",
    "   but the most common is painting a discrete catalog of objects\n",
    "   on to a mesh (see :ref:`catalog-to-mesh` and :ref:`painting-mesh`).\n",
    "   The :class:`FFTPower` class accepts\n",
    "   input data in either the form of a :class:`~nbodykit.base.mesh.MeshSource`\n",
    "   or a :class:`~nbodykit.base.catalog.CatalogSource`. In the latter case,\n",
    "   the catalog is automatically converted to a mesh using the default parameters\n",
    "   of the :func:`~nbodykit.base.catalog.CatalogSource.to_mesh` function.\n",
    "\n",
    "   When converting from a catalog to a mesh, users can customize the painting\n",
    "   procedure via the options of the\n",
    "   :func:`~nbodykit.base.catalog.CatalogSource.to_mesh` function.\n",
    "   These options have important effects on the resulting power spectrum of\n",
    "   the field in Fourier space. See :ref:`catalog-to-mesh` for more details.\n",
    "\n",
    "#. **FFT the mesh to Fourier space**\n",
    "\n",
    "   Once the density field is painted to the mesh, the Fourier transform\n",
    "   of the field :math:`\\delta(\\vx)` is performed in parallel to obtain the complex\n",
    "   modes of the overdensity field, :math:`\\delta(\\vk)`. The field is stored\n",
    "   using the :class:`~pmesh.pm.ComplexField` object.\n",
    "\n",
    "#. **Generate the 3D power spectrum on the mesh**\n",
    "\n",
    "   The 3D power spectrum field is computed on the mesh, using\n",
    "\n",
    "   .. math::\n",
    "\n",
    "      P(\\mathbf{k}) = \\delta(\\mathbf{k}) \\cdot \\delta^\\star(\\mathbf{k}),\n",
    "\n",
    "   where :math:`\\delta^\\star (\\mathbf{k})` is the complex conjugate of :math:`\\delta(\\mathbf{k})`.\n",
    "\n",
    "#. **Perform the binning in the specified basis**\n",
    "\n",
    "   Finally, the 3D power defined on the mesh :math:`P(\\mathbf{k})` is binned using\n",
    "   the basis specified by the user. The available options for binning are:\n",
    "\n",
    "   - 1D binning as a function of wavenumber :math:`k`\n",
    "   - 2D binning as a function of wavenumber :math:`k` and cosine of the angle to the\n",
    "     line-of-sight :math:`\\mu`\n",
    "   - Multipole binning as a function of :math:`k` and multipole number :math:`\\ell`\n",
    "\n",
    "The Functionality\n",
    "-----------------\n",
    "\n",
    "Users can compute various quantities using the :class:`FFTPower`. We'll discuss\n",
    "the available functionality briefly in the sub-sections below.\n",
    "\n",
    "Auto power spectra and cross power spectra\n",
    "~~~~~~~~~~~~~~~~~~~~~~~~~~~~~~~~~~~~~~~~~~\n",
    "\n",
    "Both auto and cross spectra are supported. Users can compute cross power spectra\n",
    "by passing a second mesh object to the :class:`FFTPower` class using\n",
    "the ``second`` keyword. The first mesh object should always be specified as\n",
    "the ``first`` argument.\n",
    "\n",
    "1D Power Spectrum, :math:`P(k)`\n",
    "~~~~~~~~~~~~~~~~~~~~~~~~~~~~~~~\n",
    "\n",
    "The 1D power spectrum :math:`P(k)` can be computed by specifying the\n",
    "``mode`` argument as \"1d\". The wavenumber binning will be linear, and can be\n",
    "customized by specifying the ``dk`` and ``kmin`` attributes. By default,\n",
    "the edge of the last wavenumber bin is the\n",
    "`Nyquist frequency <https://en.wikipedia.org/wiki/Nyquist_frequency>`__, given\n",
    "by :math:`k_\\mathrm{Nyq} = \\pi N_\\mathrm{mesh} / L_\\mathrm{box}`. If ``dk``\n",
    "is not specified, then the fundamental mode of the box is used:\n",
    ":math:`2\\pi/L_\\mathrm{box}`.\n",
    "\n",
    "2D Power Spectrum, :math:`P(k,\\mu)`\n",
    "~~~~~~~~~~~~~~~~~~~~~~~~~~~~~~~~~~~\n",
    "\n",
    "The 2D power spectrum :math:`P(k,\\mu)` can be computed by specifying the\n",
    "``mode`` argument as \"2d\". The number of :math:`\\mu` bins is specified via\n",
    "the ``Nmu`` keyword. The bins range from :math:`\\mu=0` to :math:`\\mu=1`.\n",
    "\n",
    "Multipoles of :math:`P(k,\\mu)`\n",
    "~~~~~~~~~~~~~~~~~~~~~~~~~~~~~~\n",
    "\n",
    "The :class:`FFTPower` class can also compute the multipoles of the 2D power\n",
    "spectrum, defined as\n",
    "\n",
    ".. math::\n",
    "\n",
    "    P_\\ell(k) = (2\\ell + 1) \\int_0^1 d\\mu P(k,\\mu) \\mathcal{L}_\\ell(\\mu),\n",
    "\n",
    "where :math:`\\mathcal{L}_\\ell` is the Legendre polynomial of order\n",
    ":math:`\\ell`. Users can specify which multipoles they wish to compute\n",
    "by passing a list of the desired :math:`\\ell` values as the ``poles``\n",
    "keyword to the :class:`FFTPower` class.\n",
    "\n",
    "For example, we can compute both :math:`P(k,\\mu)` and :math:`P_\\ell(k)`\n",
    "for a uniform catalog of objects using:"
   ]
  },
  {
   "cell_type": "code",
   "execution_count": 2,
   "metadata": {
    "collapsed": true
   },
   "outputs": [],
   "source": [
    "from nbodykit.lab import UniformCatalog, FFTPower\n",
    "\n",
    "cat = UniformCatalog(nbar=100, BoxSize=1.0, seed=42)\n",
    "\n",
    "r = FFTPower(cat, mode='2d', Nmesh=32, Nmu=5, poles=[0,2,4])"
   ]
  },
  {
   "cell_type": "raw",
   "metadata": {
    "raw_mimetype": "text/restructuredtext"
   },
   "source": [
    "The Results\n",
    "-----------\n",
    "\n",
    "The power spectrum results are stored in two attributes of the\n",
    "initialized :class:`FFTPower` object:\n",
    ":attr:`~FFTPower.power` and :attr:`~FFTPower.poles`. These attributes are\n",
    ":class:`~nbodykit.binned_statistic.BinnedStatistic` objects, which\n",
    "behave like structured numpy arrays and store\n",
    "the measured results on a coordinate grid defined by the bins.\n",
    "See :ref:`analyzing-results` for a full tutorial on using\n",
    "the :class:`BinnedStatistic` class.\n",
    "\n",
    "The :attr:`~FFTPower.power` attribute stores the following variables:\n",
    "\n",
    "- k :\n",
    "    the mean value for each ``k`` bin\n",
    "- mu : if ``mode=2d``\n",
    "    the mean value for each ``mu`` bin\n",
    "- power :\n",
    "    complex array storing the real and imaginary components of the power\n",
    "- modes :\n",
    "    the number of Fourier modes averaged together in each bin\n",
    "\n",
    "The :attr:`~FFTPower.poles` attribute stores the following variables:\n",
    "\n",
    "- k :\n",
    "    the mean value for each ``k`` bin\n",
    "- power_L :\n",
    "    complex array storing the real and imaginary components for\n",
    "    the :math:`\\ell=L` multipole\n",
    "- modes :\n",
    "    the number of Fourier modes averaged together in each bin\n",
    "\n",
    "Note that measured power results for bins where ``modes`` is zero (no data points\n",
    "to average over) are set to ``NaN``.\n",
    "\n",
    "In our example, the ``power`` and ``poles`` attributes are:"
   ]
  },
  {
   "cell_type": "code",
   "execution_count": 3,
   "metadata": {},
   "outputs": [
    {
     "name": "stdout",
     "output_type": "stream",
     "text": [
      "power =  <BinnedStatistic: dims: (k: 16, mu: 5), variables: ('k', 'mu', 'power', 'modes')>\n",
      "variables =  ['k', 'mu', 'power', 'modes']\n",
      "'k' has shape (16, 5) and dtype float64\n",
      "'mu' has shape (16, 5) and dtype float64\n",
      "'power' has shape (16, 5) and dtype complex128\n",
      "'modes' has shape (16, 5) and dtype int64\n"
     ]
    }
   ],
   "source": [
    "# the 2D power spectrum results\n",
    "print(\"power = \", r.power)\n",
    "print(\"variables = \", r.power.variables)\n",
    "for name in r.power.variables:\n",
    "    var = r.power[name]\n",
    "    print(\"'%s' has shape %s and dtype %s\" %(name, var.shape, var.dtype))"
   ]
  },
  {
   "cell_type": "code",
   "execution_count": 4,
   "metadata": {},
   "outputs": [
    {
     "name": "stdout",
     "output_type": "stream",
     "text": [
      "poles =  <BinnedStatistic: dims: (k: 16), variables: 5 total>\n",
      "variables =  ['k', 'power_0', 'power_2', 'power_4', 'modes']\n",
      "'k' has shape (16,) and dtype float64\n",
      "'power_0' has shape (16,) and dtype complex128\n",
      "'power_2' has shape (16,) and dtype complex128\n",
      "'power_4' has shape (16,) and dtype complex128\n",
      "'modes' has shape (16,) and dtype int64\n"
     ]
    }
   ],
   "source": [
    "# the multipole results\n",
    "print(\"poles = \", r.poles)\n",
    "print(\"variables = \", r.poles.variables)\n",
    "for name in r.poles.variables:\n",
    "    var = r.poles[name]\n",
    "    print(\"'%s' has shape %s and dtype %s\" %(name, var.shape, var.dtype))"
   ]
  },
  {
   "cell_type": "raw",
   "metadata": {
    "raw_mimetype": "text/restructuredtext"
   },
   "source": [
    "These attributes also store meta-data computed during the power calculation\n",
    "in the ``attrs`` dictionary.  Most importantly, the ``shotnoise`` key\n",
    "gives the Poisson shot noise, :math:`P_\\mathrm{shot} = V / N`, where *V*\n",
    "is the volume of the simulation box and *N* is the number of objects. The keys\n",
    "``N1`` and ``N2`` store the number of objects.\n",
    "\n",
    "In our example, the meta-data is:"
   ]
  },
  {
   "cell_type": "code",
   "execution_count": 5,
   "metadata": {},
   "outputs": [
    {
     "name": "stdout",
     "output_type": "stream",
     "text": [
      "Nmesh = [32 32 32]\n",
      "BoxSize = [ 1.  1.  1.]\n",
      "dk = 6.28318530718\n",
      "kmin = 0.0\n",
      "Lx = 1.0\n",
      "Ly = 1.0\n",
      "Lz = 1.0\n",
      "volume = 1.0\n",
      "mode = 2d\n",
      "los = [0, 0, 1]\n",
      "Nmu = 5\n",
      "poles = [0, 2, 4]\n",
      "N1 = 96\n",
      "N2 = 96\n",
      "shotnoise = 0.0104166666667\n"
     ]
    }
   ],
   "source": [
    "for k in r.power.attrs:\n",
    "  print(\"%s = %s\" %(k, str(r.power.attrs[k])))"
   ]
  },
  {
   "cell_type": "raw",
   "metadata": {
    "raw_mimetype": "text/restructuredtext"
   },
   "source": [
    ".. note::\n",
    "\n",
    "    The shot noise is not subtracted from any measured results. Users can\n",
    "    access the Poisson shot noise value in the meta-data :attr:`attrs`\n",
    "    dictionary.\n",
    "\n",
    "Saving and Loading\n",
    "------------------\n",
    "\n",
    "Results can easily be saved and loaded from disk in a reproducible manner\n",
    "using the :func:`FFTPower.save` and :func:`FFTPower.load` functions.\n",
    "The :class:`~FFTPower.save` function stores the state of the algorithm,\n",
    "including the meta-data in the :attr:`FFTPower.attrs` dictionary, in a\n",
    "JSON plaintext format."
   ]
  },
  {
   "cell_type": "code",
   "execution_count": 6,
   "metadata": {},
   "outputs": [
    {
     "name": "stdout",
     "output_type": "stream",
     "text": [
      "power =  <BinnedStatistic: dims: (k: 16, mu: 5), variables: ('k', 'mu', 'power', 'modes')>\n",
      "poles =  <BinnedStatistic: dims: (k: 16), variables: 5 total>\n",
      "attrs =  {'Nmesh': array([32, 32, 32]), 'BoxSize': array([ 1.,  1.,  1.]), 'dk': 6.283185307179586, 'kmin': 0.0, 'Lx': 1.0, 'Ly': 1.0, 'Lz': 1.0, 'volume': 1.0, 'mode': '2d', 'los': [0, 0, 1], 'Nmu': 5, 'poles': [0, 2, 4], 'N1': 96, 'N2': 96, 'shotnoise': 0.010416666666666666}\n"
     ]
    }
   ],
   "source": [
    "# save to file\n",
    "r.save(\"fftpower-example.json\")\n",
    "\n",
    "# load from file\n",
    "r2 = FFTPower.load(\"fftpower-example.json\")\n",
    "\n",
    "print(\"power = \", r2.power)\n",
    "print(\"poles = \", r2.poles)\n",
    "print(\"attrs = \", r2.attrs)"
   ]
  },
  {
   "cell_type": "raw",
   "metadata": {
    "raw_mimetype": "text/restructuredtext"
   },
   "source": [
    "Common Pitfalls\n",
    "---------------\n",
    "\n",
    "The default configuration of nbodykit should lead to reasonable results\n",
    "when using the :class:`FFTPower` algorithm. When performing custom, more complex\n",
    "analyses, some of the more common pitfalls are:\n",
    "\n",
    "- When the results of :class:`FFTPower` do not seem to make sense, the most common\n",
    "  culprit is usually the configuration of the mesh, and whether or not the mesh\n",
    "  is \"compensated\". In the language of nbodykit, \"compensated\" refers to whether\n",
    "  the effects of the interpolation window used to paint the density field have\n",
    "  been de-convolved in Fourier space. See the :ref:`catalog-to-mesh`\n",
    "  section for detailed notes on this procedure.\n",
    "\n",
    "- Be wary of normalization issues when painting weighted density fields. See\n",
    "  :ref:`painting-mesh` for further details on painting meshes and :ref:`mesh-apply`\n",
    "  for notes on applying arbitrary functions to the mesh while painting. See\n",
    "  :ref:`this cookbook recipe <cookbook/painting.ipynb>` for examples\n",
    "  of more advanced painting uses."
   ]
  },
  {
   "cell_type": "code",
   "execution_count": 7,
   "metadata": {
    "collapsed": true,
    "nbsphinx": "hidden"
   },
   "outputs": [],
   "source": [
    "import shutil\n",
    "os.chdir(startdir)\n",
    "shutil.rmtree(tmpdir)"
   ]
  }
 ],
 "metadata": {
  "celltoolbar": "Edit Metadata",
  "kernelspec": {
   "display_name": "Python 3",
   "language": "python",
   "name": "python3"
  },
  "language_info": {
   "codemirror_mode": {
    "name": "ipython",
    "version": 3
   },
   "file_extension": ".py",
   "mimetype": "text/x-python",
   "name": "python",
   "nbconvert_exporter": "python",
   "pygments_lexer": "ipython3",
   "version": "3.6.2"
  }
 },
 "nbformat": 4,
 "nbformat_minor": 2
}

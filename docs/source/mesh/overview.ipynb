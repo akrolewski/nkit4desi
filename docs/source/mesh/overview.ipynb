{
 "cells": [
  {
   "cell_type": "raw",
   "metadata": {
    "raw_mimetype": "text/restructuredtext"
   },
   "source": [
    ".. _mesh-overview:\n",
    ".. currentmodule:: nbodykit.base.mesh\n",
    "\n",
    "Dealing with Data on a Mesh\n",
    "===========================\n",
    "\n",
    ".. contents::\n",
    "   :depth: 2\n",
    "   :local:\n",
    "   :backlinks: none\n",
    "\n",
    "\n",
    "What is a :class:`MeshSource`?\n",
    "------------------------------\n",
    "\n",
    "Often in large-scale structure data analysis, we wish to manipulate\n",
    "representations of continuous quantities on a discrete grid. The canonical\n",
    "example is the analysis of the cosmological density field,\n",
    "interpolated on to a 3D mesh from a discrete set of galaxies. To support\n",
    "such calculations, nbodykit provides the\n",
    ":class:`nbodykit.base.mesh.MeshSource` object.\n",
    "\n",
    "Fundamentally, the :class:`MeshSource` object stores a (possibly weighted)\n",
    "density field on a three-dimensional mesh, with the ``Nmesh`` parameter\n",
    "determining the number of grid cells per side (such that there are\n",
    ":math:`\\mathrm{Nmesh}^3` mesh cells).  nbodykit adds the functionality\n",
    "to analyze these fields in both configuration space (often referred\n",
    "to real space) and Fourier space through an interface to the\n",
    ":class:`~pmesh.pm.RealField` and :class:`~pmesh.pm.ComplexField` objects\n",
    "implemented by the :mod:`pmesh` package. These objects are\n",
    "paired classes, related through the operation of a 3D\n",
    "`fast Fourier transform <https://en.wikipedia.org/wiki/Fast_Fourier_transform>`_\n",
    "(FFT). The FFT operation implemented in :mod:`pmesh` relies on\n",
    "the `pfft-python <https://github.com/rainwoodman/pfft-python>`_ package, which\n",
    "is a Python binding of `PFFT <https://github.com/mpip/pfft>`_, a massively parallel\n",
    "FFT library.\n",
    "\n",
    "Use Cases\n",
    "---------\n",
    "\n",
    "The :class:`MeshSource` is an abstract base class -- it cannot be directly\n",
    "initialized. Instead, nbodykit includes several specialized subclasses of\n",
    ":class:`MeshSource` in the :mod:`nbodykit.source.mesh` module. In general,\n",
    "these subclasses fall into three categories:\n",
    "\n",
    "#. Generating mesh data from a\n",
    "   :class:`~nbodykit.base.catalog.CatalogSource` (see :ref:`catalog-to-mesh`)\n",
    "#. Reading mesh data from disk (see :ref:`saving-loading-mesh`)\n",
    "#. Generating mock fields directly on a mesh (see :ref:`gaussian-meshes`)\n",
    "\n",
    "Painting the Mesh\n",
    "-----------------\n",
    "\n",
    "The :func:`MeshSource.paint` function produces the values of the field\n",
    "on the mesh, returning either a :class:`~pmesh.pm.RealField` or\n",
    ":class:`~pmesh.pm.ComplexField`. This function treats the mesh equally in\n",
    "either configuration space or Fourier space, internally\n",
    "performing the appropriate FFTs. By specifying the ``mode`` keyword to the\n",
    ":func:`~MeshSource.paint` function, users can access either the field\n",
    "data in configuration space or the complex modes of the field in Fourier space.\n",
    "\n",
    "The \"painting\" nomenclature derives from the most common use case. The\n",
    "process of interpolating a set of discrete objects on to the mesh evokes\n",
    "the imagery of \"painting\" the mesh. More generally, the :func:`~MeshSource.paint`\n",
    "function is responsible for filling in the mesh with data, which could also\n",
    "involve reading data from disk or generating mock fields directly on the mesh.\n",
    "\n",
    "For further details and examples of painting a catalog of discrete objects\n",
    "to a mesh, see :ref:`painting-mesh`.\n",
    "\n",
    "Fields: ``RealField`` and ``ComplexField``\n",
    "------------------------------------------\n",
    "\n",
    "The :class:`MeshSource` class provides an interface to the\n",
    ":class:`pmesh.pm.RealField` and :class:`pmesh.pm.ComplexField` objects.\n",
    "These classes behave like numpy arrays and include functions to\n",
    "perform parallel forward and inverse FFTs. These\n",
    "field objects are initialized from a :class:`pmesh.pm.ParticleMesh`, which\n",
    "sets the number of mesh cells and stores FFT-related grid quantities."
   ]
  },
  {
   "cell_type": "code",
   "execution_count": 1,
   "metadata": {},
   "outputs": [
    {
     "name": "stdout",
     "output_type": "stream",
     "text": [
      "shape =  (8, 8, 8)\n",
      "mean =  1.0\n"
     ]
    }
   ],
   "source": [
    "from pmesh.pm import ParticleMesh, RealField, ComplexField\n",
    "\n",
    "# a 8^3 mesh\n",
    "pm = ParticleMesh(Nmesh=[8,8,8])\n",
    "\n",
    "# initialize a RealField\n",
    "rfield = RealField(pm)\n",
    "\n",
    "# shape\n",
    "print(\"shape = \", rfield.shape)\n",
    "\n",
    "# set entire mesh to unity\n",
    "rfield[...] = 1.0\n",
    "\n",
    "# print the mean of the underlying array\n",
    "print(\"mean = \", rfield.value.mean())"
   ]
  },
  {
   "cell_type": "raw",
   "metadata": {
    "raw_mimetype": "text/restructuredtext"
   },
   "source": [
    "All :class:`MeshSource` objects implement either the\n",
    ":func:`MeshSource.to_real_field` function or the\n",
    ":func:`MeshSource.to_complex_field` function. These\n",
    "functions are responsible for returning either a :class:`~pmesh.pm.RealField`\n",
    "or a :class:`~pmesh.pm.ComplexField`. The :class:`MeshSource.paint` function\n",
    "calls these functions, providing the core functionality\n",
    "of the :class:`MeshSource` class.\n",
    "\n",
    "\n",
    "The :func:`c2r` and :func:`r2c` functions\n",
    "^^^^^^^^^^^^^^^^^^^^^^^^^^^^^^^^^^^^^^^^^\n",
    "\n",
    "Users can transform between :class:`~pmesh.pm.RealField` and\n",
    ":class:`~pmesh.pm.ComplexField` objects using the :func:`~pmesh.pm.RealField.r2c`\n",
    "function for forward FFTs and the :func:`~pmesh.pm.ComplexField.c2r` function\n",
    "for inverse FFTs. These operations take advantage of the fact that the field objects in\n",
    "configuration space store real-valued quantities to perform real-to-complex\n",
    "FFTs. This type of FFT uses the symmetry of real-valued quantities to store\n",
    "only half of the complex modes along the ``z`` axis."
   ]
  },
  {
   "cell_type": "code",
   "execution_count": 2,
   "metadata": {},
   "outputs": [
    {
     "name": "stdout",
     "output_type": "stream",
     "text": [
      "shape =  (8, 8, 5)\n",
      "mean of configuration space field from k=0 =  (1+0j)\n",
      "mean of real field =  1.0\n"
     ]
    }
   ],
   "source": [
    "# perform the forward FFT\n",
    "cfield = rfield.r2c()\n",
    "\n",
    "# stores Nmesh/2+1 in z axis b/c of conjugate symmetry\n",
    "print(\"shape = \", cfield.shape)\n",
    "\n",
    "# k=0 mode is the mean value of configuration space field\n",
    "print(\"mean of configuration space field from k=0 = \", cfield[0,0,0])\n",
    "\n",
    "# perform the inverse FFT\n",
    "rfield2 = cfield.c2r()\n",
    "\n",
    "# print the mean of the underlying array\n",
    "print(\"mean of real field = \", rfield2.value.mean())"
   ]
  },
  {
   "cell_type": "raw",
   "metadata": {
    "raw_mimetype": "text/restructuredtext"
   },
   "source": [
    "Storing Meta-data\n",
    "-----------------\n",
    "\n",
    "For all :class:`MeshSource` objects, the input parameters and additional\n",
    "meta-data are stored in the :attr:`~MeshSource.attrs` dictionary attribute.\n",
    "\n",
    "API\n",
    "---\n",
    "\n",
    "For more information about specific mesh sources, please see the\n",
    ":ref:`API section<api-mesh-data>`."
   ]
  }
 ],
 "metadata": {
  "celltoolbar": "Raw Cell Format",
  "kernelspec": {
   "display_name": "Python 3",
   "language": "python",
   "name": "python3"
  },
  "language_info": {
   "codemirror_mode": {
    "name": "ipython",
    "version": 3
   },
   "file_extension": ".py",
   "mimetype": "text/x-python",
   "name": "python",
   "nbconvert_exporter": "python",
   "pygments_lexer": "ipython3",
   "version": "3.6.2"
  }
 },
 "nbformat": 4,
 "nbformat_minor": 2
}
